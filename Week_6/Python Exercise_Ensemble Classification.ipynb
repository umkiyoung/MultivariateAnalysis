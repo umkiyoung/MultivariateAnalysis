{
 "cells": [
  {
   "cell_type": "code",
   "execution_count": 5,
   "id": "3f9bb5e2",
   "metadata": {},
   "outputs": [],
   "source": [
    "import numpy as np\n",
    "import pandas as pd\n",
    "\n",
    "from sklearn.preprocessing import StandardScaler\n",
    "from sklearn.metrics import confusion_matrix\n",
    "\n",
    "from sklearn.neural_network import MLPClassifier\n",
    "from sklearn.tree import DecisionTreeClassifier\n",
    "from sklearn.ensemble import BaggingClassifier, AdaBoostClassifier, GradientBoostingClassifier, RandomForestClassifier\n",
    "\n",
    "import seaborn as sns\n",
    "import matplotlib.pyplot as plt\n",
    "from typing import List\n",
    "\n",
    "import warnings\n",
    "warnings.filterwarnings(action='ignore')"
   ]
  },
  {
   "attachments": {},
   "cell_type": "markdown",
   "id": "6864e436",
   "metadata": {},
   "source": [
    "# Part 1: Classification with Single Model"
   ]
  },
  {
   "attachments": {},
   "cell_type": "markdown",
   "id": "6960deb9",
   "metadata": {},
   "source": [
    "# Performance Evaluation Function"
   ]
  },
  {
   "cell_type": "code",
   "execution_count": 6,
   "id": "00fb9acc",
   "metadata": {},
   "outputs": [],
   "source": [
    "def perf_eval(cm: np.array):\n",
    "    # True positive rate: TPR (recall)\n",
    "    tpr = cm[1,1]/np.sum(cm[1])\n",
    "    # Precision\n",
    "    pre = cm[1,1]/np.sum(cm[1])\n",
    "    # True negative rate: TNR\n",
    "    tnr = cm[0,0]/np.sum(cm[0])\n",
    "    # Simple Accuracy\n",
    "    acc = (cm[0,0]+cm[1,1])/np.sum(cm)\n",
    "    # Balanced Correction Rate\n",
    "    bcr = np.sqrt(tpr*tnr)\n",
    "    # F1-Measure\n",
    "    f1 = 2*tpr*pre/(tpr+pre)\n",
    "    \n",
    "    return tpr, pre, tnr, acc, bcr, f1"
   ]
  },
  {
   "cell_type": "code",
   "execution_count": 7,
   "id": "461b18ef",
   "metadata": {},
   "outputs": [],
   "source": [
    "perf_table = pd.DataFrame(\n",
    "    data    = np.zeros(shape=(6,6)),\n",
    "    index   = [\"ANN\", \"CART\", \"Bagging ANN\", \"AdaBoost\", \"GBM\", \"Random Forests\"],\n",
    "    columns = [\"TPR\", \"Precision\", \"TNR\", \"Accuracy\", \"BCR\", \"F1-Measure\"]\n",
    ")"
   ]
  },
  {
   "cell_type": "code",
   "execution_count": 8,
   "id": "e40c74ea",
   "metadata": {},
   "outputs": [
    {
     "data": {
      "text/html": [
       "<div>\n",
       "<style scoped>\n",
       "    .dataframe tbody tr th:only-of-type {\n",
       "        vertical-align: middle;\n",
       "    }\n",
       "\n",
       "    .dataframe tbody tr th {\n",
       "        vertical-align: top;\n",
       "    }\n",
       "\n",
       "    .dataframe thead th {\n",
       "        text-align: right;\n",
       "    }\n",
       "</style>\n",
       "<table border=\"1\" class=\"dataframe\">\n",
       "  <thead>\n",
       "    <tr style=\"text-align: right;\">\n",
       "      <th></th>\n",
       "      <th>TPR</th>\n",
       "      <th>Precision</th>\n",
       "      <th>TNR</th>\n",
       "      <th>Accuracy</th>\n",
       "      <th>BCR</th>\n",
       "      <th>F1-Measure</th>\n",
       "    </tr>\n",
       "  </thead>\n",
       "  <tbody>\n",
       "    <tr>\n",
       "      <th>ANN</th>\n",
       "      <td>0.0</td>\n",
       "      <td>0.0</td>\n",
       "      <td>0.0</td>\n",
       "      <td>0.0</td>\n",
       "      <td>0.0</td>\n",
       "      <td>0.0</td>\n",
       "    </tr>\n",
       "    <tr>\n",
       "      <th>CART</th>\n",
       "      <td>0.0</td>\n",
       "      <td>0.0</td>\n",
       "      <td>0.0</td>\n",
       "      <td>0.0</td>\n",
       "      <td>0.0</td>\n",
       "      <td>0.0</td>\n",
       "    </tr>\n",
       "    <tr>\n",
       "      <th>Bagging ANN</th>\n",
       "      <td>0.0</td>\n",
       "      <td>0.0</td>\n",
       "      <td>0.0</td>\n",
       "      <td>0.0</td>\n",
       "      <td>0.0</td>\n",
       "      <td>0.0</td>\n",
       "    </tr>\n",
       "    <tr>\n",
       "      <th>AdaBoost</th>\n",
       "      <td>0.0</td>\n",
       "      <td>0.0</td>\n",
       "      <td>0.0</td>\n",
       "      <td>0.0</td>\n",
       "      <td>0.0</td>\n",
       "      <td>0.0</td>\n",
       "    </tr>\n",
       "    <tr>\n",
       "      <th>GBM</th>\n",
       "      <td>0.0</td>\n",
       "      <td>0.0</td>\n",
       "      <td>0.0</td>\n",
       "      <td>0.0</td>\n",
       "      <td>0.0</td>\n",
       "      <td>0.0</td>\n",
       "    </tr>\n",
       "    <tr>\n",
       "      <th>Random Forests</th>\n",
       "      <td>0.0</td>\n",
       "      <td>0.0</td>\n",
       "      <td>0.0</td>\n",
       "      <td>0.0</td>\n",
       "      <td>0.0</td>\n",
       "      <td>0.0</td>\n",
       "    </tr>\n",
       "  </tbody>\n",
       "</table>\n",
       "</div>"
      ],
      "text/plain": [
       "                TPR  Precision  TNR  Accuracy  BCR  F1-Measure\n",
       "ANN             0.0        0.0  0.0       0.0  0.0         0.0\n",
       "CART            0.0        0.0  0.0       0.0  0.0         0.0\n",
       "Bagging ANN     0.0        0.0  0.0       0.0  0.0         0.0\n",
       "AdaBoost        0.0        0.0  0.0       0.0  0.0         0.0\n",
       "GBM             0.0        0.0  0.0       0.0  0.0         0.0\n",
       "Random Forests  0.0        0.0  0.0       0.0  0.0         0.0"
      ]
     },
     "execution_count": 8,
     "metadata": {},
     "output_type": "execute_result"
    }
   ],
   "source": [
    "perf_table"
   ]
  },
  {
   "attachments": {},
   "cell_type": "markdown",
   "id": "e44f8303",
   "metadata": {},
   "source": [
    "## Model 1: Artificial Neural Network"
   ]
  },
  {
   "cell_type": "code",
   "execution_count": 9,
   "id": "c2617221",
   "metadata": {},
   "outputs": [],
   "source": [
    "# Load the data & Preprocessing\n",
    "ploan = pd.read_csv('Personal Loan.csv')\n",
    "input_idx = [1,2,3,5,6,7,8,10,11,12,13]\n",
    "target_idx = 9\n",
    "\n",
    "scaler = StandardScaler()\n",
    "ploan_input = scaler.fit_transform(ploan.iloc[:,input_idx])\n",
    "ploan_target = ploan.iloc[:,target_idx]\n",
    "\n",
    "# Divide the dataset into the training dataset and test dataset\n",
    "trn_idx = range(1500)\n",
    "tst_idx = range(1500,2500)\n",
    "\n",
    "# Input/target configuration\n",
    "trn_input = ploan_input[trn_idx,:]\n",
    "trn_target = ploan_target[trn_idx]\n",
    "\n",
    "tst_input = ploan_input[tst_idx,:]\n",
    "tst_target = ploan_target[tst_idx]"
   ]
  },
  {
   "cell_type": "code",
   "execution_count": 10,
   "id": "f4c7ca7c",
   "metadata": {},
   "outputs": [],
   "source": [
    "# Training ANN\n",
    "ann_model = MLPClassifier(hidden_layer_sizes=14, max_iter=300, random_state=42).fit(X=trn_input, y=trn_target)"
   ]
  },
  {
   "cell_type": "code",
   "execution_count": 11,
   "id": "c55f7702",
   "metadata": {},
   "outputs": [],
   "source": [
    "# Performance evaluation\n",
    "ann_prey = ann_model.predict(X=tst_input)\n",
    "ann_cfm = confusion_matrix(y_true=tst_target, y_pred=ann_prey)"
   ]
  },
  {
   "cell_type": "code",
   "execution_count": 12,
   "id": "2784f925",
   "metadata": {},
   "outputs": [
    {
     "data": {
      "text/html": [
       "<div>\n",
       "<style scoped>\n",
       "    .dataframe tbody tr th:only-of-type {\n",
       "        vertical-align: middle;\n",
       "    }\n",
       "\n",
       "    .dataframe tbody tr th {\n",
       "        vertical-align: top;\n",
       "    }\n",
       "\n",
       "    .dataframe thead th {\n",
       "        text-align: right;\n",
       "    }\n",
       "</style>\n",
       "<table border=\"1\" class=\"dataframe\">\n",
       "  <thead>\n",
       "    <tr style=\"text-align: right;\">\n",
       "      <th></th>\n",
       "      <th>TPR</th>\n",
       "      <th>Precision</th>\n",
       "      <th>TNR</th>\n",
       "      <th>Accuracy</th>\n",
       "      <th>BCR</th>\n",
       "      <th>F1-Measure</th>\n",
       "    </tr>\n",
       "  </thead>\n",
       "  <tbody>\n",
       "    <tr>\n",
       "      <th>ANN</th>\n",
       "      <td>0.798077</td>\n",
       "      <td>0.798077</td>\n",
       "      <td>0.993304</td>\n",
       "      <td>0.973</td>\n",
       "      <td>0.890355</td>\n",
       "      <td>0.798077</td>\n",
       "    </tr>\n",
       "    <tr>\n",
       "      <th>CART</th>\n",
       "      <td>0.000000</td>\n",
       "      <td>0.000000</td>\n",
       "      <td>0.000000</td>\n",
       "      <td>0.000</td>\n",
       "      <td>0.000000</td>\n",
       "      <td>0.000000</td>\n",
       "    </tr>\n",
       "    <tr>\n",
       "      <th>Bagging ANN</th>\n",
       "      <td>0.000000</td>\n",
       "      <td>0.000000</td>\n",
       "      <td>0.000000</td>\n",
       "      <td>0.000</td>\n",
       "      <td>0.000000</td>\n",
       "      <td>0.000000</td>\n",
       "    </tr>\n",
       "    <tr>\n",
       "      <th>AdaBoost</th>\n",
       "      <td>0.000000</td>\n",
       "      <td>0.000000</td>\n",
       "      <td>0.000000</td>\n",
       "      <td>0.000</td>\n",
       "      <td>0.000000</td>\n",
       "      <td>0.000000</td>\n",
       "    </tr>\n",
       "    <tr>\n",
       "      <th>GBM</th>\n",
       "      <td>0.000000</td>\n",
       "      <td>0.000000</td>\n",
       "      <td>0.000000</td>\n",
       "      <td>0.000</td>\n",
       "      <td>0.000000</td>\n",
       "      <td>0.000000</td>\n",
       "    </tr>\n",
       "    <tr>\n",
       "      <th>Random Forests</th>\n",
       "      <td>0.000000</td>\n",
       "      <td>0.000000</td>\n",
       "      <td>0.000000</td>\n",
       "      <td>0.000</td>\n",
       "      <td>0.000000</td>\n",
       "      <td>0.000000</td>\n",
       "    </tr>\n",
       "  </tbody>\n",
       "</table>\n",
       "</div>"
      ],
      "text/plain": [
       "                     TPR  Precision       TNR  Accuracy       BCR  F1-Measure\n",
       "ANN             0.798077   0.798077  0.993304     0.973  0.890355    0.798077\n",
       "CART            0.000000   0.000000  0.000000     0.000  0.000000    0.000000\n",
       "Bagging ANN     0.000000   0.000000  0.000000     0.000  0.000000    0.000000\n",
       "AdaBoost        0.000000   0.000000  0.000000     0.000  0.000000    0.000000\n",
       "GBM             0.000000   0.000000  0.000000     0.000  0.000000    0.000000\n",
       "Random Forests  0.000000   0.000000  0.000000     0.000  0.000000    0.000000"
      ]
     },
     "execution_count": 12,
     "metadata": {},
     "output_type": "execute_result"
    }
   ],
   "source": [
    "perf_table.iloc[0,:] = perf_eval(cm=ann_cfm)\n",
    "perf_table"
   ]
  },
  {
   "attachments": {},
   "cell_type": "markdown",
   "id": "3ae2f360",
   "metadata": {},
   "source": [
    "## Model 2: Classification Tree"
   ]
  },
  {
   "cell_type": "code",
   "execution_count": 13,
   "id": "c7ae884e",
   "metadata": {},
   "outputs": [],
   "source": [
    "# Training the tree\n",
    "\n",
    "cart_model = DecisionTreeClassifier(\n",
    "    min_samples_split=10, max_depth=None, random_state=42\n",
    ").fit(X=trn_input, y=trn_target)"
   ]
  },
  {
   "cell_type": "code",
   "execution_count": 14,
   "id": "af2c072d",
   "metadata": {},
   "outputs": [],
   "source": [
    "# Prediction\n",
    "cart_prey = cart_model.predict(X=tst_input)\n",
    "cart_cfm = confusion_matrix(y_true=tst_target, y_pred=cart_prey)"
   ]
  },
  {
   "cell_type": "code",
   "execution_count": 15,
   "id": "8456bf18",
   "metadata": {},
   "outputs": [
    {
     "data": {
      "text/html": [
       "<div>\n",
       "<style scoped>\n",
       "    .dataframe tbody tr th:only-of-type {\n",
       "        vertical-align: middle;\n",
       "    }\n",
       "\n",
       "    .dataframe tbody tr th {\n",
       "        vertical-align: top;\n",
       "    }\n",
       "\n",
       "    .dataframe thead th {\n",
       "        text-align: right;\n",
       "    }\n",
       "</style>\n",
       "<table border=\"1\" class=\"dataframe\">\n",
       "  <thead>\n",
       "    <tr style=\"text-align: right;\">\n",
       "      <th></th>\n",
       "      <th>TPR</th>\n",
       "      <th>Precision</th>\n",
       "      <th>TNR</th>\n",
       "      <th>Accuracy</th>\n",
       "      <th>BCR</th>\n",
       "      <th>F1-Measure</th>\n",
       "    </tr>\n",
       "  </thead>\n",
       "  <tbody>\n",
       "    <tr>\n",
       "      <th>ANN</th>\n",
       "      <td>0.798077</td>\n",
       "      <td>0.798077</td>\n",
       "      <td>0.993304</td>\n",
       "      <td>0.973</td>\n",
       "      <td>0.890355</td>\n",
       "      <td>0.798077</td>\n",
       "    </tr>\n",
       "    <tr>\n",
       "      <th>CART</th>\n",
       "      <td>0.894231</td>\n",
       "      <td>0.894231</td>\n",
       "      <td>0.987723</td>\n",
       "      <td>0.978</td>\n",
       "      <td>0.939815</td>\n",
       "      <td>0.894231</td>\n",
       "    </tr>\n",
       "    <tr>\n",
       "      <th>Bagging ANN</th>\n",
       "      <td>0.000000</td>\n",
       "      <td>0.000000</td>\n",
       "      <td>0.000000</td>\n",
       "      <td>0.000</td>\n",
       "      <td>0.000000</td>\n",
       "      <td>0.000000</td>\n",
       "    </tr>\n",
       "    <tr>\n",
       "      <th>AdaBoost</th>\n",
       "      <td>0.000000</td>\n",
       "      <td>0.000000</td>\n",
       "      <td>0.000000</td>\n",
       "      <td>0.000</td>\n",
       "      <td>0.000000</td>\n",
       "      <td>0.000000</td>\n",
       "    </tr>\n",
       "    <tr>\n",
       "      <th>GBM</th>\n",
       "      <td>0.000000</td>\n",
       "      <td>0.000000</td>\n",
       "      <td>0.000000</td>\n",
       "      <td>0.000</td>\n",
       "      <td>0.000000</td>\n",
       "      <td>0.000000</td>\n",
       "    </tr>\n",
       "    <tr>\n",
       "      <th>Random Forests</th>\n",
       "      <td>0.000000</td>\n",
       "      <td>0.000000</td>\n",
       "      <td>0.000000</td>\n",
       "      <td>0.000</td>\n",
       "      <td>0.000000</td>\n",
       "      <td>0.000000</td>\n",
       "    </tr>\n",
       "  </tbody>\n",
       "</table>\n",
       "</div>"
      ],
      "text/plain": [
       "                     TPR  Precision       TNR  Accuracy       BCR  F1-Measure\n",
       "ANN             0.798077   0.798077  0.993304     0.973  0.890355    0.798077\n",
       "CART            0.894231   0.894231  0.987723     0.978  0.939815    0.894231\n",
       "Bagging ANN     0.000000   0.000000  0.000000     0.000  0.000000    0.000000\n",
       "AdaBoost        0.000000   0.000000  0.000000     0.000  0.000000    0.000000\n",
       "GBM             0.000000   0.000000  0.000000     0.000  0.000000    0.000000\n",
       "Random Forests  0.000000   0.000000  0.000000     0.000  0.000000    0.000000"
      ]
     },
     "execution_count": 15,
     "metadata": {},
     "output_type": "execute_result"
    }
   ],
   "source": [
    "perf_table.iloc[1,:] = perf_eval(cm=cart_cfm)\n",
    "perf_table"
   ]
  },
  {
   "attachments": {},
   "cell_type": "markdown",
   "id": "6c0c97c1",
   "metadata": {},
   "source": [
    "# Part 2: Classification with Ensemble Models"
   ]
  },
  {
   "attachments": {},
   "cell_type": "markdown",
   "id": "862d34a5",
   "metadata": {},
   "source": [
    "## Model 3: Bagging with Neural Network"
   ]
  },
  {
   "cell_type": "code",
   "execution_count": 16,
   "id": "123a3f34",
   "metadata": {},
   "outputs": [
    {
     "name": "stderr",
     "output_type": "stream",
     "text": [
      "[Parallel(n_jobs=8)]: Using backend LokyBackend with 8 concurrent workers.\n",
      "[Parallel(n_jobs=8)]: Done   2 out of   8 | elapsed:   24.9s remaining:  1.3min\n",
      "[Parallel(n_jobs=8)]: Done   8 out of   8 | elapsed:   27.2s finished\n"
     ]
    }
   ],
   "source": [
    "# Baggin Training\n",
    "bagging_ann_model = BaggingClassifier(\n",
    "    base_estimator = MLPClassifier(hidden_layer_sizes=14, max_iter=300, random_state=42),\n",
    "    n_estimators   = 100,\n",
    "    n_jobs         = 8, # Assign the number of cores to be processed in parallel\n",
    "    bootstrap      = True,\n",
    "    verbose        = 1 #학습 과정을 지켜볼지\n",
    ").fit(X=trn_input, y=trn_target)"
   ]
  },
  {
   "cell_type": "code",
   "execution_count": 17,
   "id": "b2bf0297",
   "metadata": {},
   "outputs": [
    {
     "name": "stderr",
     "output_type": "stream",
     "text": [
      "[Parallel(n_jobs=8)]: Using backend LokyBackend with 8 concurrent workers.\n",
      "[Parallel(n_jobs=8)]: Done   2 out of   8 | elapsed:    0.1s remaining:    0.4s\n",
      "[Parallel(n_jobs=8)]: Done   8 out of   8 | elapsed:    0.1s finished\n"
     ]
    }
   ],
   "source": [
    "# Bagging Test\n",
    "bagging_ann_prey = bagging_ann_model.predict(X=tst_input)\n",
    "bagging_ann_cfm = confusion_matrix(y_true=tst_target, y_pred=bagging_ann_prey)"
   ]
  },
  {
   "cell_type": "code",
   "execution_count": 18,
   "id": "f14374aa",
   "metadata": {},
   "outputs": [
    {
     "data": {
      "text/html": [
       "<div>\n",
       "<style scoped>\n",
       "    .dataframe tbody tr th:only-of-type {\n",
       "        vertical-align: middle;\n",
       "    }\n",
       "\n",
       "    .dataframe tbody tr th {\n",
       "        vertical-align: top;\n",
       "    }\n",
       "\n",
       "    .dataframe thead th {\n",
       "        text-align: right;\n",
       "    }\n",
       "</style>\n",
       "<table border=\"1\" class=\"dataframe\">\n",
       "  <thead>\n",
       "    <tr style=\"text-align: right;\">\n",
       "      <th></th>\n",
       "      <th>TPR</th>\n",
       "      <th>Precision</th>\n",
       "      <th>TNR</th>\n",
       "      <th>Accuracy</th>\n",
       "      <th>BCR</th>\n",
       "      <th>F1-Measure</th>\n",
       "    </tr>\n",
       "  </thead>\n",
       "  <tbody>\n",
       "    <tr>\n",
       "      <th>ANN</th>\n",
       "      <td>0.798077</td>\n",
       "      <td>0.798077</td>\n",
       "      <td>0.993304</td>\n",
       "      <td>0.973</td>\n",
       "      <td>0.890355</td>\n",
       "      <td>0.798077</td>\n",
       "    </tr>\n",
       "    <tr>\n",
       "      <th>CART</th>\n",
       "      <td>0.894231</td>\n",
       "      <td>0.894231</td>\n",
       "      <td>0.987723</td>\n",
       "      <td>0.978</td>\n",
       "      <td>0.939815</td>\n",
       "      <td>0.894231</td>\n",
       "    </tr>\n",
       "    <tr>\n",
       "      <th>Bagging ANN</th>\n",
       "      <td>0.778846</td>\n",
       "      <td>0.778846</td>\n",
       "      <td>0.994420</td>\n",
       "      <td>0.972</td>\n",
       "      <td>0.880057</td>\n",
       "      <td>0.778846</td>\n",
       "    </tr>\n",
       "    <tr>\n",
       "      <th>AdaBoost</th>\n",
       "      <td>0.000000</td>\n",
       "      <td>0.000000</td>\n",
       "      <td>0.000000</td>\n",
       "      <td>0.000</td>\n",
       "      <td>0.000000</td>\n",
       "      <td>0.000000</td>\n",
       "    </tr>\n",
       "    <tr>\n",
       "      <th>GBM</th>\n",
       "      <td>0.000000</td>\n",
       "      <td>0.000000</td>\n",
       "      <td>0.000000</td>\n",
       "      <td>0.000</td>\n",
       "      <td>0.000000</td>\n",
       "      <td>0.000000</td>\n",
       "    </tr>\n",
       "    <tr>\n",
       "      <th>Random Forests</th>\n",
       "      <td>0.000000</td>\n",
       "      <td>0.000000</td>\n",
       "      <td>0.000000</td>\n",
       "      <td>0.000</td>\n",
       "      <td>0.000000</td>\n",
       "      <td>0.000000</td>\n",
       "    </tr>\n",
       "  </tbody>\n",
       "</table>\n",
       "</div>"
      ],
      "text/plain": [
       "                     TPR  Precision       TNR  Accuracy       BCR  F1-Measure\n",
       "ANN             0.798077   0.798077  0.993304     0.973  0.890355    0.798077\n",
       "CART            0.894231   0.894231  0.987723     0.978  0.939815    0.894231\n",
       "Bagging ANN     0.778846   0.778846  0.994420     0.972  0.880057    0.778846\n",
       "AdaBoost        0.000000   0.000000  0.000000     0.000  0.000000    0.000000\n",
       "GBM             0.000000   0.000000  0.000000     0.000  0.000000    0.000000\n",
       "Random Forests  0.000000   0.000000  0.000000     0.000  0.000000    0.000000"
      ]
     },
     "execution_count": 18,
     "metadata": {},
     "output_type": "execute_result"
    }
   ],
   "source": [
    "perf_table.iloc[2,:] = perf_eval(cm=bagging_ann_cfm)\n",
    "perf_table"
   ]
  },
  {
   "attachments": {},
   "cell_type": "markdown",
   "id": "e247f7a7",
   "metadata": {},
   "source": [
    "성능이 단일모델보다 bad 애초에 ANN 성능이 낮아서 이를 base로 사용하는게 의미가 X라고 해석할 수 있음."
   ]
  },
  {
   "attachments": {},
   "cell_type": "markdown",
   "id": "d942eca3",
   "metadata": {},
   "source": [
    "## Model 4: AdaBoost with Stump Tree"
   ]
  },
  {
   "cell_type": "code",
   "execution_count": 19,
   "id": "cd5d1b79",
   "metadata": {},
   "outputs": [],
   "source": [
    "# Training AdaBoost with Stump Tree (Tree with 1 depth)\n",
    "adaboost_model = AdaBoostClassifier(\n",
    "    base_estimator = DecisionTreeClassifier(max_depth=1), # Stump Tree\n",
    "    n_estimators   = 100,\n",
    "    random_state   = 42\n",
    ").fit(X=trn_input, y=trn_target)"
   ]
  },
  {
   "cell_type": "code",
   "execution_count": 20,
   "id": "567c1e61",
   "metadata": {},
   "outputs": [],
   "source": [
    "# Prediction\n",
    "adaboost_prey = adaboost_model.predict(X=tst_input)\n",
    "adaboost_cfm = confusion_matrix(y_true=tst_target, y_pred=adaboost_prey)"
   ]
  },
  {
   "cell_type": "code",
   "execution_count": 21,
   "id": "74966400",
   "metadata": {},
   "outputs": [
    {
     "data": {
      "text/html": [
       "<div>\n",
       "<style scoped>\n",
       "    .dataframe tbody tr th:only-of-type {\n",
       "        vertical-align: middle;\n",
       "    }\n",
       "\n",
       "    .dataframe tbody tr th {\n",
       "        vertical-align: top;\n",
       "    }\n",
       "\n",
       "    .dataframe thead th {\n",
       "        text-align: right;\n",
       "    }\n",
       "</style>\n",
       "<table border=\"1\" class=\"dataframe\">\n",
       "  <thead>\n",
       "    <tr style=\"text-align: right;\">\n",
       "      <th></th>\n",
       "      <th>TPR</th>\n",
       "      <th>Precision</th>\n",
       "      <th>TNR</th>\n",
       "      <th>Accuracy</th>\n",
       "      <th>BCR</th>\n",
       "      <th>F1-Measure</th>\n",
       "    </tr>\n",
       "  </thead>\n",
       "  <tbody>\n",
       "    <tr>\n",
       "      <th>ANN</th>\n",
       "      <td>0.798077</td>\n",
       "      <td>0.798077</td>\n",
       "      <td>0.993304</td>\n",
       "      <td>0.973</td>\n",
       "      <td>0.890355</td>\n",
       "      <td>0.798077</td>\n",
       "    </tr>\n",
       "    <tr>\n",
       "      <th>CART</th>\n",
       "      <td>0.894231</td>\n",
       "      <td>0.894231</td>\n",
       "      <td>0.987723</td>\n",
       "      <td>0.978</td>\n",
       "      <td>0.939815</td>\n",
       "      <td>0.894231</td>\n",
       "    </tr>\n",
       "    <tr>\n",
       "      <th>Bagging ANN</th>\n",
       "      <td>0.778846</td>\n",
       "      <td>0.778846</td>\n",
       "      <td>0.994420</td>\n",
       "      <td>0.972</td>\n",
       "      <td>0.880057</td>\n",
       "      <td>0.778846</td>\n",
       "    </tr>\n",
       "    <tr>\n",
       "      <th>AdaBoost</th>\n",
       "      <td>0.692308</td>\n",
       "      <td>0.692308</td>\n",
       "      <td>0.976562</td>\n",
       "      <td>0.947</td>\n",
       "      <td>0.822242</td>\n",
       "      <td>0.692308</td>\n",
       "    </tr>\n",
       "    <tr>\n",
       "      <th>GBM</th>\n",
       "      <td>0.000000</td>\n",
       "      <td>0.000000</td>\n",
       "      <td>0.000000</td>\n",
       "      <td>0.000</td>\n",
       "      <td>0.000000</td>\n",
       "      <td>0.000000</td>\n",
       "    </tr>\n",
       "    <tr>\n",
       "      <th>Random Forests</th>\n",
       "      <td>0.000000</td>\n",
       "      <td>0.000000</td>\n",
       "      <td>0.000000</td>\n",
       "      <td>0.000</td>\n",
       "      <td>0.000000</td>\n",
       "      <td>0.000000</td>\n",
       "    </tr>\n",
       "  </tbody>\n",
       "</table>\n",
       "</div>"
      ],
      "text/plain": [
       "                     TPR  Precision       TNR  Accuracy       BCR  F1-Measure\n",
       "ANN             0.798077   0.798077  0.993304     0.973  0.890355    0.798077\n",
       "CART            0.894231   0.894231  0.987723     0.978  0.939815    0.894231\n",
       "Bagging ANN     0.778846   0.778846  0.994420     0.972  0.880057    0.778846\n",
       "AdaBoost        0.692308   0.692308  0.976562     0.947  0.822242    0.692308\n",
       "GBM             0.000000   0.000000  0.000000     0.000  0.000000    0.000000\n",
       "Random Forests  0.000000   0.000000  0.000000     0.000  0.000000    0.000000"
      ]
     },
     "execution_count": 21,
     "metadata": {},
     "output_type": "execute_result"
    }
   ],
   "source": [
    "perf_table.iloc[3,:] = perf_eval(cm=adaboost_cfm)\n",
    "perf_table"
   ]
  },
  {
   "attachments": {},
   "cell_type": "markdown",
   "id": "0057f0e5",
   "metadata": {},
   "source": [
    "## Model 5: Gradient Boosting Machine"
   ]
  },
  {
   "cell_type": "code",
   "execution_count": 22,
   "id": "4e21d944",
   "metadata": {},
   "outputs": [],
   "source": [
    "# Training GBM\n",
    "gbm_model = GradientBoostingClassifier(\n",
    "    n_estimators   = 1000, # Number of trees\n",
    "    learning_rate  = 0.02, # Shrinkage\n",
    "    subsample      = 0.8, # 80% of the training data is used for training\n",
    "    random_state   = 42 \n",
    ").fit(X=trn_input, y=trn_target)"
   ]
  },
  {
   "cell_type": "code",
   "execution_count": 23,
   "id": "4eedc268",
   "metadata": {},
   "outputs": [
    {
     "data": {
      "text/html": [
       "<div>\n",
       "<style scoped>\n",
       "    .dataframe tbody tr th:only-of-type {\n",
       "        vertical-align: middle;\n",
       "    }\n",
       "\n",
       "    .dataframe tbody tr th {\n",
       "        vertical-align: top;\n",
       "    }\n",
       "\n",
       "    .dataframe thead th {\n",
       "        text-align: right;\n",
       "    }\n",
       "</style>\n",
       "<table border=\"1\" class=\"dataframe\">\n",
       "  <thead>\n",
       "    <tr style=\"text-align: right;\">\n",
       "      <th></th>\n",
       "      <th>variables importance</th>\n",
       "    </tr>\n",
       "  </thead>\n",
       "  <tbody>\n",
       "    <tr>\n",
       "      <th>Income</th>\n",
       "      <td>0.369927</td>\n",
       "    </tr>\n",
       "    <tr>\n",
       "      <th>Education</th>\n",
       "      <td>0.362374</td>\n",
       "    </tr>\n",
       "    <tr>\n",
       "      <th>Family</th>\n",
       "      <td>0.127892</td>\n",
       "    </tr>\n",
       "    <tr>\n",
       "      <th>CCAvg</th>\n",
       "      <td>0.085386</td>\n",
       "    </tr>\n",
       "    <tr>\n",
       "      <th>Age</th>\n",
       "      <td>0.022852</td>\n",
       "    </tr>\n",
       "    <tr>\n",
       "      <th>CD Account</th>\n",
       "      <td>0.018302</td>\n",
       "    </tr>\n",
       "    <tr>\n",
       "      <th>Experience</th>\n",
       "      <td>0.007565</td>\n",
       "    </tr>\n",
       "    <tr>\n",
       "      <th>Mortgage</th>\n",
       "      <td>0.002769</td>\n",
       "    </tr>\n",
       "    <tr>\n",
       "      <th>Securities Account</th>\n",
       "      <td>0.001402</td>\n",
       "    </tr>\n",
       "    <tr>\n",
       "      <th>Online</th>\n",
       "      <td>0.001301</td>\n",
       "    </tr>\n",
       "    <tr>\n",
       "      <th>CreditCard</th>\n",
       "      <td>0.000230</td>\n",
       "    </tr>\n",
       "  </tbody>\n",
       "</table>\n",
       "</div>"
      ],
      "text/plain": [
       "                    variables importance\n",
       "Income                          0.369927\n",
       "Education                       0.362374\n",
       "Family                          0.127892\n",
       "CCAvg                           0.085386\n",
       "Age                             0.022852\n",
       "CD Account                      0.018302\n",
       "Experience                      0.007565\n",
       "Mortgage                        0.002769\n",
       "Securities Account              0.001402\n",
       "Online                          0.001301\n",
       "CreditCard                      0.000230"
      ]
     },
     "execution_count": 23,
     "metadata": {},
     "output_type": "execute_result"
    }
   ],
   "source": [
    "# Variable Importance \n",
    "var_imp = gbm_model.feature_importances_\n",
    "\n",
    "var_imp_df = pd.DataFrame(\n",
    "    data = var_imp,\n",
    "    columns = ['variables importance'],\n",
    "    index = ploan.iloc[:,input_idx].columns\n",
    ").sort_values('variables importance', ascending=False)\n",
    "var_imp_df"
   ]
  },
  {
   "cell_type": "code",
   "execution_count": 24,
   "id": "a47f17f3",
   "metadata": {
    "scrolled": false
   },
   "outputs": [
    {
     "data": {
      "text/plain": [
       "<Axes: xlabel='variables importance'>"
      ]
     },
     "execution_count": 24,
     "metadata": {},
     "output_type": "execute_result"
    },
    {
     "data": {
      "image/png": "[encoded data removed]",
      "text/plain": [
       "<Figure size 800x1000 with 1 Axes>"
      ]
     },
     "metadata": {},
     "output_type": "display_data"
    }
   ],
   "source": [
    "plt.figure(figsize=(8,10))\n",
    "sns.barplot(\n",
    "    x     = 'variables importance',\n",
    "    y     = var_imp_df.index,\n",
    "    color = 'blue',\n",
    "    data  = var_imp_df\n",
    ")"
   ]
  },
  {
   "cell_type": "code",
   "execution_count": 25,
   "id": "edf875a0",
   "metadata": {},
   "outputs": [],
   "source": [
    "# Prediction\n",
    "gbm_prey = gbm_model.predict(X=tst_input)\n",
    "gbm_cfm = confusion_matrix(y_true=tst_target, y_pred=gbm_prey)"
   ]
  },
  {
   "cell_type": "code",
   "execution_count": 26,
   "id": "3450f038",
   "metadata": {},
   "outputs": [
    {
     "data": {
      "text/html": [
       "<div>\n",
       "<style scoped>\n",
       "    .dataframe tbody tr th:only-of-type {\n",
       "        vertical-align: middle;\n",
       "    }\n",
       "\n",
       "    .dataframe tbody tr th {\n",
       "        vertical-align: top;\n",
       "    }\n",
       "\n",
       "    .dataframe thead th {\n",
       "        text-align: right;\n",
       "    }\n",
       "</style>\n",
       "<table border=\"1\" class=\"dataframe\">\n",
       "  <thead>\n",
       "    <tr style=\"text-align: right;\">\n",
       "      <th></th>\n",
       "      <th>TPR</th>\n",
       "      <th>Precision</th>\n",
       "      <th>TNR</th>\n",
       "      <th>Accuracy</th>\n",
       "      <th>BCR</th>\n",
       "      <th>F1-Measure</th>\n",
       "    </tr>\n",
       "  </thead>\n",
       "  <tbody>\n",
       "    <tr>\n",
       "      <th>ANN</th>\n",
       "      <td>0.798077</td>\n",
       "      <td>0.798077</td>\n",
       "      <td>0.993304</td>\n",
       "      <td>0.973</td>\n",
       "      <td>0.890355</td>\n",
       "      <td>0.798077</td>\n",
       "    </tr>\n",
       "    <tr>\n",
       "      <th>CART</th>\n",
       "      <td>0.894231</td>\n",
       "      <td>0.894231</td>\n",
       "      <td>0.987723</td>\n",
       "      <td>0.978</td>\n",
       "      <td>0.939815</td>\n",
       "      <td>0.894231</td>\n",
       "    </tr>\n",
       "    <tr>\n",
       "      <th>Bagging ANN</th>\n",
       "      <td>0.778846</td>\n",
       "      <td>0.778846</td>\n",
       "      <td>0.994420</td>\n",
       "      <td>0.972</td>\n",
       "      <td>0.880057</td>\n",
       "      <td>0.778846</td>\n",
       "    </tr>\n",
       "    <tr>\n",
       "      <th>AdaBoost</th>\n",
       "      <td>0.692308</td>\n",
       "      <td>0.692308</td>\n",
       "      <td>0.976562</td>\n",
       "      <td>0.947</td>\n",
       "      <td>0.822242</td>\n",
       "      <td>0.692308</td>\n",
       "    </tr>\n",
       "    <tr>\n",
       "      <th>GBM</th>\n",
       "      <td>0.894231</td>\n",
       "      <td>0.894231</td>\n",
       "      <td>0.989955</td>\n",
       "      <td>0.980</td>\n",
       "      <td>0.940876</td>\n",
       "      <td>0.894231</td>\n",
       "    </tr>\n",
       "    <tr>\n",
       "      <th>Random Forests</th>\n",
       "      <td>0.000000</td>\n",
       "      <td>0.000000</td>\n",
       "      <td>0.000000</td>\n",
       "      <td>0.000</td>\n",
       "      <td>0.000000</td>\n",
       "      <td>0.000000</td>\n",
       "    </tr>\n",
       "  </tbody>\n",
       "</table>\n",
       "</div>"
      ],
      "text/plain": [
       "                     TPR  Precision       TNR  Accuracy       BCR  F1-Measure\n",
       "ANN             0.798077   0.798077  0.993304     0.973  0.890355    0.798077\n",
       "CART            0.894231   0.894231  0.987723     0.978  0.939815    0.894231\n",
       "Bagging ANN     0.778846   0.778846  0.994420     0.972  0.880057    0.778846\n",
       "AdaBoost        0.692308   0.692308  0.976562     0.947  0.822242    0.692308\n",
       "GBM             0.894231   0.894231  0.989955     0.980  0.940876    0.894231\n",
       "Random Forests  0.000000   0.000000  0.000000     0.000  0.000000    0.000000"
      ]
     },
     "execution_count": 26,
     "metadata": {},
     "output_type": "execute_result"
    }
   ],
   "source": [
    "perf_table.iloc[4,:] = perf_eval(cm=gbm_cfm)\n",
    "perf_table"
   ]
  },
  {
   "attachments": {},
   "cell_type": "markdown",
   "id": "42119a29",
   "metadata": {},
   "source": [
    "## Model 6: Random Forest"
   ]
  },
  {
   "cell_type": "code",
   "execution_count": 27,
   "id": "e3456f1e",
   "metadata": {
    "scrolled": true
   },
   "outputs": [
    {
     "name": "stderr",
     "output_type": "stream",
     "text": [
      "[Parallel(n_jobs=1)]: Using backend SequentialBackend with 1 concurrent workers.\n",
      "[Parallel(n_jobs=1)]: Done 100 out of 100 | elapsed:    0.2s finished\n"
     ]
    }
   ],
   "source": [
    "# Training the Random Forest\n",
    "rf_model = RandomForestClassifier(\n",
    "    n_estimators = 100,\n",
    "    verbose      = 1,\n",
    "    random_state = 42\n",
    ").fit(X=trn_input, y=trn_target)"
   ]
  },
  {
   "cell_type": "code",
   "execution_count": 28,
   "id": "9ef59cc4",
   "metadata": {
    "scrolled": false
   },
   "outputs": [
    {
     "data": {
      "text/html": [
       "<div>\n",
       "<style scoped>\n",
       "    .dataframe tbody tr th:only-of-type {\n",
       "        vertical-align: middle;\n",
       "    }\n",
       "\n",
       "    .dataframe tbody tr th {\n",
       "        vertical-align: top;\n",
       "    }\n",
       "\n",
       "    .dataframe thead th {\n",
       "        text-align: right;\n",
       "    }\n",
       "</style>\n",
       "<table border=\"1\" class=\"dataframe\">\n",
       "  <thead>\n",
       "    <tr style=\"text-align: right;\">\n",
       "      <th></th>\n",
       "      <th>variables importance</th>\n",
       "    </tr>\n",
       "  </thead>\n",
       "  <tbody>\n",
       "    <tr>\n",
       "      <th>Income</th>\n",
       "      <td>0.326597</td>\n",
       "    </tr>\n",
       "    <tr>\n",
       "      <th>Education</th>\n",
       "      <td>0.192020</td>\n",
       "    </tr>\n",
       "    <tr>\n",
       "      <th>CCAvg</th>\n",
       "      <td>0.184544</td>\n",
       "    </tr>\n",
       "    <tr>\n",
       "      <th>Family</th>\n",
       "      <td>0.093745</td>\n",
       "    </tr>\n",
       "    <tr>\n",
       "      <th>CD Account</th>\n",
       "      <td>0.052799</td>\n",
       "    </tr>\n",
       "    <tr>\n",
       "      <th>Age</th>\n",
       "      <td>0.045023</td>\n",
       "    </tr>\n",
       "    <tr>\n",
       "      <th>Experience</th>\n",
       "      <td>0.041599</td>\n",
       "    </tr>\n",
       "    <tr>\n",
       "      <th>Mortgage</th>\n",
       "      <td>0.039293</td>\n",
       "    </tr>\n",
       "    <tr>\n",
       "      <th>Online</th>\n",
       "      <td>0.010764</td>\n",
       "    </tr>\n",
       "    <tr>\n",
       "      <th>CreditCard</th>\n",
       "      <td>0.007647</td>\n",
       "    </tr>\n",
       "    <tr>\n",
       "      <th>Securities Account</th>\n",
       "      <td>0.005970</td>\n",
       "    </tr>\n",
       "  </tbody>\n",
       "</table>\n",
       "</div>"
      ],
      "text/plain": [
       "                    variables importance\n",
       "Income                          0.326597\n",
       "Education                       0.192020\n",
       "CCAvg                           0.184544\n",
       "Family                          0.093745\n",
       "CD Account                      0.052799\n",
       "Age                             0.045023\n",
       "Experience                      0.041599\n",
       "Mortgage                        0.039293\n",
       "Online                          0.010764\n",
       "CreditCard                      0.007647\n",
       "Securities Account              0.005970"
      ]
     },
     "execution_count": 28,
     "metadata": {},
     "output_type": "execute_result"
    }
   ],
   "source": [
    "# Variable Importance \n",
    "var_imp = rf_model.feature_importances_\n",
    "\n",
    "var_imp_df = pd.DataFrame(\n",
    "    data = var_imp,\n",
    "    columns = ['variables importance'],\n",
    "    index = ploan.iloc[:,input_idx].columns\n",
    ").sort_values('variables importance', ascending=False)\n",
    "var_imp_df"
   ]
  },
  {
   "cell_type": "code",
   "execution_count": 29,
   "id": "06a7dc57",
   "metadata": {},
   "outputs": [
    {
     "data": {
      "text/plain": [
       "<Axes: ylabel='variables importance'>"
      ]
     },
     "execution_count": 29,
     "metadata": {},
     "output_type": "execute_result"
    },
    {
     "data": {
      "image/png": "[encoded data removed]",
      "text/plain": [
       "<Figure size 1500x600 with 1 Axes>"
      ]
     },
     "metadata": {},
     "output_type": "display_data"
    }
   ],
   "source": [
    "plt.figure(figsize=(15,6))\n",
    "sns.barplot(\n",
    "    x     = var_imp_df.index,\n",
    "    y     = 'variables importance',\n",
    "    color = 'grey',\n",
    "    data  = var_imp_df\n",
    ")"
   ]
  },
  {
   "cell_type": "code",
   "execution_count": 30,
   "id": "e193b135",
   "metadata": {
    "scrolled": true
   },
   "outputs": [
    {
     "name": "stderr",
     "output_type": "stream",
     "text": [
      "[Parallel(n_jobs=1)]: Using backend SequentialBackend with 1 concurrent workers.\n",
      "[Parallel(n_jobs=1)]: Done 100 out of 100 | elapsed:    0.0s finished\n"
     ]
    }
   ],
   "source": [
    "# Prediction\n",
    "rf_prey = rf_model.predict(X=tst_input)\n",
    "rf_cfm = confusion_matrix(y_true=tst_target, y_pred=rf_prey)"
   ]
  },
  {
   "cell_type": "code",
   "execution_count": 31,
   "id": "ca4bdac0",
   "metadata": {},
   "outputs": [
    {
     "data": {
      "text/html": [
       "<div>\n",
       "<style scoped>\n",
       "    .dataframe tbody tr th:only-of-type {\n",
       "        vertical-align: middle;\n",
       "    }\n",
       "\n",
       "    .dataframe tbody tr th {\n",
       "        vertical-align: top;\n",
       "    }\n",
       "\n",
       "    .dataframe thead th {\n",
       "        text-align: right;\n",
       "    }\n",
       "</style>\n",
       "<table border=\"1\" class=\"dataframe\">\n",
       "  <thead>\n",
       "    <tr style=\"text-align: right;\">\n",
       "      <th></th>\n",
       "      <th>TPR</th>\n",
       "      <th>Precision</th>\n",
       "      <th>TNR</th>\n",
       "      <th>Accuracy</th>\n",
       "      <th>BCR</th>\n",
       "      <th>F1-Measure</th>\n",
       "    </tr>\n",
       "  </thead>\n",
       "  <tbody>\n",
       "    <tr>\n",
       "      <th>ANN</th>\n",
       "      <td>0.7981</td>\n",
       "      <td>0.7981</td>\n",
       "      <td>0.9933</td>\n",
       "      <td>0.973</td>\n",
       "      <td>0.8904</td>\n",
       "      <td>0.7981</td>\n",
       "    </tr>\n",
       "    <tr>\n",
       "      <th>CART</th>\n",
       "      <td>0.8942</td>\n",
       "      <td>0.8942</td>\n",
       "      <td>0.9877</td>\n",
       "      <td>0.978</td>\n",
       "      <td>0.9398</td>\n",
       "      <td>0.8942</td>\n",
       "    </tr>\n",
       "    <tr>\n",
       "      <th>Bagging ANN</th>\n",
       "      <td>0.7788</td>\n",
       "      <td>0.7788</td>\n",
       "      <td>0.9944</td>\n",
       "      <td>0.972</td>\n",
       "      <td>0.8801</td>\n",
       "      <td>0.7788</td>\n",
       "    </tr>\n",
       "    <tr>\n",
       "      <th>AdaBoost</th>\n",
       "      <td>0.6923</td>\n",
       "      <td>0.6923</td>\n",
       "      <td>0.9766</td>\n",
       "      <td>0.947</td>\n",
       "      <td>0.8222</td>\n",
       "      <td>0.6923</td>\n",
       "    </tr>\n",
       "    <tr>\n",
       "      <th>GBM</th>\n",
       "      <td>0.8942</td>\n",
       "      <td>0.8942</td>\n",
       "      <td>0.9900</td>\n",
       "      <td>0.980</td>\n",
       "      <td>0.9409</td>\n",
       "      <td>0.8942</td>\n",
       "    </tr>\n",
       "    <tr>\n",
       "      <th>Random Forests</th>\n",
       "      <td>0.8365</td>\n",
       "      <td>0.8365</td>\n",
       "      <td>0.9955</td>\n",
       "      <td>0.979</td>\n",
       "      <td>0.9126</td>\n",
       "      <td>0.8365</td>\n",
       "    </tr>\n",
       "  </tbody>\n",
       "</table>\n",
       "</div>"
      ],
      "text/plain": [
       "                   TPR  Precision     TNR  Accuracy     BCR  F1-Measure\n",
       "ANN             0.7981     0.7981  0.9933     0.973  0.8904      0.7981\n",
       "CART            0.8942     0.8942  0.9877     0.978  0.9398      0.8942\n",
       "Bagging ANN     0.7788     0.7788  0.9944     0.972  0.8801      0.7788\n",
       "AdaBoost        0.6923     0.6923  0.9766     0.947  0.8222      0.6923\n",
       "GBM             0.8942     0.8942  0.9900     0.980  0.9409      0.8942\n",
       "Random Forests  0.8365     0.8365  0.9955     0.979  0.9126      0.8365"
      ]
     },
     "execution_count": 31,
     "metadata": {},
     "output_type": "execute_result"
    }
   ],
   "source": [
    "perf_table.iloc[5,:] = perf_eval(cm=rf_cfm)\n",
    "perf_table.round(4)"
   ]
  },
  {
   "cell_type": "code",
   "execution_count": null,
   "id": "6b9d8d59",
   "metadata": {},
   "outputs": [],
   "source": []
  }
 ],
 "metadata": {
  "kernelspec": {
   "display_name": "Python 3 (ipykernel)",
   "language": "python",
   "name": "python3"
  },
  "language_info": {
   "codemirror_mode": {
    "name": "ipython",
    "version": 3
   },
   "file_extension": ".py",
   "mimetype": "text/x-python",
   "name": "python",
   "nbconvert_exporter": "python",
   "pygments_lexer": "ipython3",
   "version": "3.10.9"
  }
 },
 "nbformat": 4,
 "nbformat_minor": 5
}
