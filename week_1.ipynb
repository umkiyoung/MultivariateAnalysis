{
 "cells": [
  {
   "attachments": {},
   "cell_type": "markdown",
   "metadata": {},
   "source": [
    "## 다변량분석_MLR\n",
    "- 1주차 파이썬 실습"
   ]
  },
  {
   "cell_type": "code",
   "execution_count": 1,
   "metadata": {},
   "outputs": [
    {
     "name": "stdout",
     "output_type": "stream",
     "text": [
      "Note: you may need to restart the kernel to use updated packages.\n"
     ]
    },
    {
     "name": "stderr",
     "output_type": "stream",
     "text": [
      "ERROR: Could not open requirements file: [Errno 2] No such file or directory: \"'requirements.txt'\"\n"
     ]
    }
   ],
   "source": [
    "%pip install -r 'requirements.txt'"
   ]
  },
  {
   "cell_type": "code",
   "execution_count": 2,
   "metadata": {},
   "outputs": [],
   "source": [
    "#필요한 모듈 import\n",
    "from typing import Union\n",
    "import numpy as np\n",
    "import pandas as pd\n",
    "from sklearn.metrics import mean_squared_error as MSE\n",
    "from sklearn.metrics import mean_absolute_error as MAE\n",
    "from sklearn.metrics import mean_absolute_percentage_error as MAPE"
   ]
  },
  {
   "cell_type": "code",
   "execution_count": 3,
   "metadata": {},
   "outputs": [],
   "source": [
    "#performance evaluation function\n",
    "def perf_eval_reg(y_true: Union[np.array, list], y_pred: Union[np.array,list])->list:\n",
    "    \"\"\"\n",
    "    input:\n",
    "    y_true : ndarray of shape (n_samples,)\n",
    "    y_pred : ndarray of shape (n_samples,)\n",
    "\n",
    "    Return:\n",
    "    [rmse,mae,mape]: scores of regression in a list\n",
    "    \"\"\"\n",
    "    rmse = MSE(y_true, y_pred, squared=False)\n",
    "    mae = MAE(y_true, y_pred)\n",
    "    mape = MAPE(y_true, y_pred)\n",
    "    \n",
    "    return [rmse,mae,mape]"
   ]
  },
  {
   "cell_type": "code",
   "execution_count": 4,
   "metadata": {},
   "outputs": [],
   "source": [
    "#display result\n",
    "def display_result(result_dict: dict, dataset_names:list, metric_names: list):\n",
    "    \"\"\"\n",
    "    Input:\n",
    "    result_dict : 데이터 셋 별 Regression 평가 결과 저장한 dictionary\n",
    "    ex) {'Toyota Corolla':[0.1,0.5,0.3],...}\n",
    "    dataset_names : 데이터 셋 이름 List\n",
    "    ex) ['Toyota Corolla','Boston Housing']\n",
    "    metric_names : Regression 평가 지표 이름 List\n",
    "    ex) ['RMSE','MAE','MAPE']\n",
    "    \"\"\"\n",
    "    result_df = pd.DataFrame(result_dict).T\n",
    "    result_df.index = dataset_names\n",
    "    result_df.colums = metric_names\n",
    "\n",
    "    display(result_df)\n",
    "\n",
    "result_dict = {}\n"
   ]
  },
  {
   "cell_type": "code",
   "execution_count": 5,
   "metadata": {},
   "outputs": [],
   "source": [
    "corolla = pd.read_csv(\"ToyotaCorolla.csv\")\n",
    "\n",
    "#indices for the activated input variables\n",
    "nCar = len(corolla.index)#셈플 개수\n",
    "nVar = len(corolla.columns)#총 변수의 개수"
   ]
  },
  {
   "cell_type": "code",
   "execution_count": 6,
   "metadata": {},
   "outputs": [],
   "source": [
    "#1-to-c coding\n",
    "dummy_p = np.array([0]*nCar)\n",
    "dummy_d = np.array([0]*nCar)\n",
    "dummy_c = np.array([0]*nCar)\n",
    "p_idx = corolla['Fuel_Type']=='Petrol'\n",
    "d_idx = corolla['Fuel_Type']=='Diesel'\n",
    "c_idx = corolla['Fuel_Type']=='CNG'\n",
    "dummy_p[p_idx] = 1\n",
    "dummy_d[d_idx] = 1\n",
    "dummy_c[c_idx] = 1"
   ]
  },
  {
   "cell_type": "code",
   "execution_count": 7,
   "metadata": {},
   "outputs": [
    {
     "data": {
      "text/plain": [
       "0       False\n",
       "1       False\n",
       "2       False\n",
       "3       False\n",
       "4       False\n",
       "        ...  \n",
       "1431     True\n",
       "1432     True\n",
       "1433     True\n",
       "1434     True\n",
       "1435     True\n",
       "Name: Fuel_Type, Length: 1436, dtype: bool"
      ]
     },
     "execution_count": 7,
     "metadata": {},
     "output_type": "execute_result"
    }
   ],
   "source": [
    "p_idx"
   ]
  },
  {
   "cell_type": "code",
   "execution_count": 8,
   "metadata": {},
   "outputs": [
    {
     "data": {
      "text/plain": [
       "array([0, 0, 0, ..., 1, 1, 1])"
      ]
     },
     "execution_count": 8,
     "metadata": {},
     "output_type": "execute_result"
    }
   ],
   "source": [
    "dummy_p"
   ]
  },
  {
   "cell_type": "code",
   "execution_count": 9,
   "metadata": {},
   "outputs": [],
   "source": [
    "#hello"
   ]
  },
  {
   "cell_type": "code",
   "execution_count": null,
   "metadata": {},
   "outputs": [],
   "source": []
  },
  {
   "cell_type": "code",
   "execution_count": null,
   "metadata": {},
   "outputs": [],
   "source": []
  }
 ],
 "metadata": {
  "kernelspec": {
   "display_name": "Python 3",
   "language": "python",
   "name": "python3"
  },
  "language_info": {
   "codemirror_mode": {
    "name": "ipython",
    "version": 3
   },
   "file_extension": ".py",
   "mimetype": "text/x-python",
   "name": "python",
   "nbconvert_exporter": "python",
   "pygments_lexer": "ipython3",
   "version": "3.9.7"
  },
  "orig_nbformat": 4
 },
 "nbformat": 4,
 "nbformat_minor": 2
}
